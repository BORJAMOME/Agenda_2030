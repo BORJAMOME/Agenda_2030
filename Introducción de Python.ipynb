{
  "nbformat": 4,
  "nbformat_minor": 0,
  "metadata": {
    "colab": {
      "provenance": [],
      "authorship_tag": "ABX9TyPT6CM8V7/SnuIl4Z2GqLwv",
      "include_colab_link": true
    },
    "kernelspec": {
      "name": "python3",
      "display_name": "Python 3"
    },
    "language_info": {
      "name": "python"
    }
  },
  "cells": [
    {
      "cell_type": "markdown",
      "metadata": {
        "id": "view-in-github",
        "colab_type": "text"
      },
      "source": [
        "<a href=\"https://colab.research.google.com/github/BORJAMOME/Agenda_2030/blob/main/Introducci%C3%B3n%20de%20Python.ipynb\" target=\"_parent\"><img src=\"https://colab.research.google.com/assets/colab-badge.svg\" alt=\"Open In Colab\"/></a>"
      ]
    },
    {
      "cell_type": "markdown",
      "source": [
        "#Revisión  de versión de Python"
      ],
      "metadata": {
        "id": "kvOuBATl_xpp"
      }
    },
    {
      "cell_type": "code",
      "execution_count": null,
      "metadata": {
        "id": "-cO0PFBQ9ell",
        "colab": {
          "base_uri": "https://localhost:8080/"
        },
        "outputId": "79f78272-c0ae-43ba-a605-94ebd64c5911"
      },
      "outputs": [
        {
          "output_type": "stream",
          "name": "stdout",
          "text": [
            "Python 3.11.11\n"
          ]
        }
      ],
      "source": [
        "!python --version"
      ]
    },
    {
      "cell_type": "markdown",
      "source": [
        "#Mi primer código de en Python"
      ],
      "metadata": {
        "id": "gRCBtdBLADAQ"
      }
    },
    {
      "cell_type": "code",
      "source": [
        "print(\"Mi primer instrucción en Python\")"
      ],
      "metadata": {
        "colab": {
          "base_uri": "https://localhost:8080/"
        },
        "id": "gPczDyypAHdv",
        "outputId": "0a97a98f-2473-42cb-be2e-aa647065b6cb"
      },
      "execution_count": null,
      "outputs": [
        {
          "output_type": "stream",
          "name": "stdout",
          "text": [
            "Mi primer instrucción en Python\n"
          ]
        }
      ]
    },
    {
      "cell_type": "markdown",
      "source": [
        "#Variables y tipos de datos en Python"
      ],
      "metadata": {
        "id": "6D6cErNMBrhk"
      }
    },
    {
      "cell_type": "markdown",
      "source": [
        "##Tipo de Variables"
      ],
      "metadata": {
        "id": "C3J6CdnSBxve"
      }
    },
    {
      "cell_type": "markdown",
      "source": [
        "##Palabras reservadas en Python"
      ],
      "metadata": {
        "id": "qWpxJa15LJEv"
      }
    },
    {
      "cell_type": "markdown",
      "source": [
        "En esta sección se mostrara la escritura de variables y se definira el concepto de variables.\n"
      ],
      "metadata": {
        "id": "ZJWvh7U8B1uV"
      }
    },
    {
      "cell_type": "code",
      "source": [
        "import keyword #importar libreria de palabras reservadas en python"
      ],
      "metadata": {
        "id": "nx2dI6cdKw-G"
      },
      "execution_count": 7,
      "outputs": []
    },
    {
      "cell_type": "code",
      "source": [
        "print(keyword.kwlist)"
      ],
      "metadata": {
        "colab": {
          "base_uri": "https://localhost:8080/"
        },
        "id": "uHX15PRdK75Y",
        "outputId": "928ef1da-0b9b-40bb-a66b-20bc11c1a5cd"
      },
      "execution_count": 8,
      "outputs": [
        {
          "output_type": "stream",
          "name": "stdout",
          "text": [
            "['False', 'None', 'True', 'and', 'as', 'assert', 'async', 'await', 'break', 'class', 'continue', 'def', 'del', 'elif', 'else', 'except', 'finally', 'for', 'from', 'global', 'if', 'import', 'in', 'is', 'lambda', 'nonlocal', 'not', 'or', 'pass', 'raise', 'return', 'try', 'while', 'with', 'yield']\n"
          ]
        }
      ]
    },
    {
      "cell_type": "code",
      "source": [
        "len(keyword.kwlist)"
      ],
      "metadata": {
        "colab": {
          "base_uri": "https://localhost:8080/"
        },
        "id": "56A1-JVdLqOy",
        "outputId": "ab0b6781-b517-40a2-b9d5-7104a1b7e04d"
      },
      "execution_count": 9,
      "outputs": [
        {
          "output_type": "execute_result",
          "data": {
            "text/plain": [
              "35"
            ]
          },
          "metadata": {},
          "execution_count": 9
        }
      ]
    },
    {
      "cell_type": "markdown",
      "source": [
        "##Variables"
      ],
      "metadata": {
        "id": "2fDwnYcvMMWz"
      }
    },
    {
      "cell_type": "code",
      "source": [
        "a= 10\n",
        "b=32.5\n",
        "c=a+b\n",
        "print(f\"El resultado de la variable C es de {c}\")"
      ],
      "metadata": {
        "colab": {
          "base_uri": "https://localhost:8080/"
        },
        "id": "0C1RG2R6Mwmj",
        "outputId": "332c850a-ffe9-4bc2-ed93-331c0c7fc2a5"
      },
      "execution_count": 11,
      "outputs": [
        {
          "output_type": "stream",
          "name": "stdout",
          "text": [
            "El resultado de la variable C es de 42.5\n"
          ]
        }
      ]
    },
    {
      "cell_type": "markdown",
      "source": [
        "##Tipo de estilos de escritura de variable"
      ],
      "metadata": {
        "id": "dlbDZ-60Ndvz"
      }
    },
    {
      "cell_type": "markdown",
      "source": [
        "Snake_case"
      ],
      "metadata": {
        "id": "eN5KoaaLNpny"
      }
    },
    {
      "cell_type": "code",
      "source": [
        "edad_manuel = 40 # tipo snake case\n",
        "print(edad_manuel)"
      ],
      "metadata": {
        "colab": {
          "base_uri": "https://localhost:8080/"
        },
        "id": "AVHtY8a3Ntid",
        "outputId": "718b9d49-e89f-4d80-9674-0c39c2700da7"
      },
      "execution_count": 15,
      "outputs": [
        {
          "output_type": "stream",
          "name": "stdout",
          "text": [
            "40\n"
          ]
        }
      ]
    },
    {
      "cell_type": "markdown",
      "source": [
        "camel case"
      ],
      "metadata": {
        "id": "YDdL6Y9WN9Dl"
      }
    },
    {
      "cell_type": "code",
      "source": [
        "edadManuel= 42 # tipo camel case\n",
        "print(edadManuel)"
      ],
      "metadata": {
        "colab": {
          "base_uri": "https://localhost:8080/"
        },
        "id": "1qholi_jN_TR",
        "outputId": "dc7509c2-22ce-45f4-df80-6be7961a4369"
      },
      "execution_count": 17,
      "outputs": [
        {
          "output_type": "stream",
          "name": "stdout",
          "text": [
            "42\n"
          ]
        }
      ]
    },
    {
      "cell_type": "markdown",
      "source": [
        "pascal case"
      ],
      "metadata": {
        "id": "qS8C0vmZOSnJ"
      }
    },
    {
      "cell_type": "code",
      "source": [
        "EdadManuel= 43 # tipo pascal case\n",
        "print(EdadManuel)"
      ],
      "metadata": {
        "colab": {
          "base_uri": "https://localhost:8080/"
        },
        "id": "BsK_zoDrOVEL",
        "outputId": "01047e4b-7274-4325-e397-d23bcff1bb63"
      },
      "execution_count": 19,
      "outputs": [
        {
          "output_type": "stream",
          "name": "stdout",
          "text": [
            "43\n"
          ]
        }
      ]
    },
    {
      "cell_type": "code",
      "source": [
        "edad_manuel + EdadManuel + edadManuel"
      ],
      "metadata": {
        "colab": {
          "base_uri": "https://localhost:8080/"
        },
        "id": "gJN8pQR4Onbi",
        "outputId": "290dd751-6798-4beb-aa4d-8e805f20bd3e"
      },
      "execution_count": 20,
      "outputs": [
        {
          "output_type": "execute_result",
          "data": {
            "text/plain": [
              "125"
            ]
          },
          "metadata": {},
          "execution_count": 20
        }
      ]
    }
  ]
}